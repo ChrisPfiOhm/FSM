{
  "nbformat": 4,
  "nbformat_minor": 0,
  "metadata": {
    "colab": {
      "name": "depth_tutorial",
      "provenance": [],
      "collapsed_sections": [],
      "machine_shape": "hm",
      "include_colab_link": true
    },
    "kernelspec": {
      "name": "python3",
      "display_name": "Python 3"
    }
  },
  "cells": [
    {
      "cell_type": "markdown",
      "metadata": {
        "id": "view-in-github",
        "colab_type": "text"
      },
      "source": [
        "<a href=\"https://colab.research.google.com/github/christianpfitzner/FSM/blob/master/depth_tutorial.ipynb\" target=\"_parent\"><img src=\"https://colab.research.google.com/assets/colab-badge.svg\" alt=\"Open In Colab\"/></a>"
      ]
    },
    {
      "cell_type": "markdown",
      "metadata": {
        "id": "dNj4kodCWP0e",
        "colab_type": "text"
      },
      "source": [
        "First, we will solve the needed dependencies for this workshop. \n"
      ]
    },
    {
      "cell_type": "markdown",
      "metadata": {
        "id": "35-QeUnEV_U9",
        "colab_type": "text"
      },
      "source": [
        "For this tiny example and to save a load of computational power, we create our own tiny depth image. Here, the depth image has a size of 4 x 5 values, containing only either values of 1.0 or 2.0 for depth. \n"
      ]
    },
    {
      "cell_type": "code",
      "metadata": {
        "id": "QY53V17Wzy8o",
        "colab_type": "code",
        "outputId": "8e93dd5e-2399-4d3a-f80e-866e13d11b7d",
        "colab": {
          "base_uri": "https://localhost:8080/",
          "height": 376
        }
      },
      "source": [
        "import numpy as np                                                              # we need the common numpy library for the upcomming calculation\n",
        "import matplotlib.pyplot as plt\n",
        "import cv2\n",
        "\n",
        "\n",
        "depth_image = np.matrix([[1.0, 2.0, 1.0, 1.0, 1.0], \n",
        "                         [1.0, 1.0, 0.3, 0.3, 1.0], \n",
        "                         [1.0, 1.0, 0.3, 0.3, 1.0], \n",
        "                         [1.0, 1.0, 1.0, 1.0, 1.0]])\n",
        "\n",
        "\n",
        "print(\"depth_image = \" + str(depth_image))                                      # print the depth image to terminal\n",
        "\n",
        "\n",
        "\n",
        "\n",
        "cols = np.size(depth_image,1)                                                   # read the columns from the depth image\n",
        "rows = np.size(depth_image,0)                                                   # read the rows from depth image\n",
        "\n",
        "print (\"columns of the depth image: \" + str(cols))                              # output to terminal\n",
        "print (\"rows of the depth image: \"    + str(rows))                              # output to terminal\n",
        "\n",
        "imgplot = plt.imshow(depth_image, cmap='gray')\n",
        "\n",
        "\n"
      ],
      "execution_count": 0,
      "outputs": [
        {
          "output_type": "stream",
          "text": [
            "depth_image = [[1.  2.  1.  1.  1. ]\n",
            " [1.  1.  0.3 0.3 1. ]\n",
            " [1.  1.  0.3 0.3 1. ]\n",
            " [1.  1.  1.  1.  1. ]]\n",
            "columns of the depth image: 5\n",
            "rows of the depth image: 4\n"
          ],
          "name": "stdout"
        },
        {
          "output_type": "display_data",
          "data": {
            "image/png": "[encoded data removed]",
            "text/plain": [
              "<Figure size 432x288 with 1 Axes>"
            ]
          },
          "metadata": {
            "tags": [],
            "needs_background": "light"
          }
        }
      ]
    },
    {
      "cell_type": "markdown",
      "metadata": {
        "id": "9S6aE02D0aIr",
        "colab_type": "text"
      },
      "source": [
        "In addition to the depth image, we also need a projection matrix. The process to receive this matrix and it's calculation based on image calibration will be a topic for the upcomming workshops -- till now, we need a little bit of trust. In this example, the values for the projection matrix are just some guessed values -- suitable for our out-of-the-mind-depth-image. We also do the calculation of the inverse projection matrix, based on numpy. "
      ]
    },
    {
      "cell_type": "code",
      "metadata": {
        "id": "eRMmP6OgWCZJ",
        "colab_type": "code",
        "outputId": "527a1b5a-a95a-431a-89a0-c2d6c06f2596",
        "colab": {
          "base_uri": "https://localhost:8080/",
          "height": 125
        }
      },
      "source": [
        "\n",
        "projection_matrix     = np.matrix([[20.0, 0, 3], [0.0, 20, 2.5], [0, 0, 1]])    # defining the projection matrix\n",
        "inv_projection_matrix = np.linalg.inv(projection_matrix)                        # calculation of the inverse projection matrix \n",
        "\n",
        "pointcloud = np.zeros(((cols)*(rows), 3))                                       # allocation of the point cloud with the size of cols times rows and three columns\n",
        "\n",
        "\n",
        "print(\"projection matrix = \"         + str(projection_matrix))\n",
        "print(\"inverse projection matrix = \" + str(inv_projection_matrix))\n"
      ],
      "execution_count": 0,
      "outputs": [
        {
          "output_type": "stream",
          "text": [
            "projection matrix = [[20.   0.   3. ]\n",
            " [ 0.  20.   2.5]\n",
            " [ 0.   0.   1. ]]\n",
            "inverse projection matrix = [[ 0.05   0.    -0.15 ]\n",
            " [ 0.     0.05  -0.125]\n",
            " [ 0.     0.     1.   ]]\n"
          ],
          "name": "stdout"
        }
      ]
    },
    {
      "cell_type": "markdown",
      "metadata": {
        "id": "o1raz_qYzaLA",
        "colab_type": "text"
      },
      "source": [
        "Now we have our depth image loaded, and an output variable (pointcloud) created, it is time to do the calculation for all of the pixels in the depth image. \n",
        "\n",
        "Therefore we create two for-loops, one for the colums, and one for the rows. "
      ]
    },
    {
      "cell_type": "code",
      "metadata": {
        "id": "j3GRidOlzYc4",
        "colab_type": "code",
        "colab": {}
      },
      "source": [
        "i = 0                                                                           # defining and iterator for the manipulation of the cloud\n",
        "\n",
        "for r in range(0, rows):\n",
        "  for c in range(0, cols):\n",
        "    d = depth_image.item((r, c))                                                # getting the depth value of a pixel from the depth image\n",
        "\n",
        "    q = np.matrix([[c/d],[r/d],[d]])                                                # creating image coordinates with the size of 3x1, containing the pixel coordinates, and depth\n",
        "\n",
        "    point = inv_projection_matrix*q                                             # calculating the kartesian point\n",
        "    point = np.transpose(point)                                                 # calculation of the transposed point -- this is only necessary for this example to create a row major point cloud\n",
        "\n",
        "    pointcloud[i, :] = point                                                    # we modify the complete row of a cloud\n",
        "    i = i+1\n"
      ],
      "execution_count": 0,
      "outputs": []
    },
    {
      "cell_type": "markdown",
      "metadata": {
        "id": "luRvMMU_zDht",
        "colab_type": "text"
      },
      "source": [
        "We now have a look at the generated data. The first column contains the kartesian x values, the second colum the values for y, and the third column contains the depth value -- have a close look: The values for the depth are the same for the corresponding pixels in the depth image. "
      ]
    },
    {
      "cell_type": "code",
      "metadata": {
        "id": "O82_MP_sbxNb",
        "colab_type": "code",
        "outputId": "58760dfa-b34b-44e8-edaf-734a860ddd47",
        "colab": {
          "base_uri": "https://localhost:8080/",
          "height": 377
        }
      },
      "source": [
        "print (\"point cloud = \" + str(pointcloud))"
      ],
      "execution_count": 0,
      "outputs": [
        {
          "output_type": "stream",
          "text": [
            "point cloud = [[-0.15       -0.125       1.        ]\n",
            " [-0.275      -0.25        2.        ]\n",
            " [-0.05       -0.125       1.        ]\n",
            " [ 0.         -0.125       1.        ]\n",
            " [ 0.05       -0.125       1.        ]\n",
            " [-0.15       -0.075       1.        ]\n",
            " [-0.1        -0.075       1.        ]\n",
            " [ 0.28833333  0.12916667  0.3       ]\n",
            " [ 0.455       0.12916667  0.3       ]\n",
            " [ 0.05       -0.075       1.        ]\n",
            " [-0.15       -0.025       1.        ]\n",
            " [-0.1        -0.025       1.        ]\n",
            " [ 0.28833333  0.29583333  0.3       ]\n",
            " [ 0.455       0.29583333  0.3       ]\n",
            " [ 0.05       -0.025       1.        ]\n",
            " [-0.15        0.025       1.        ]\n",
            " [-0.1         0.025       1.        ]\n",
            " [-0.05        0.025       1.        ]\n",
            " [ 0.          0.025       1.        ]\n",
            " [ 0.05        0.025       1.        ]]\n"
          ],
          "name": "stdout"
        }
      ]
    },
    {
      "cell_type": "markdown",
      "metadata": {
        "id": "h3Q3jzgGXrMo",
        "colab_type": "text"
      },
      "source": [
        "So, let's try to calculate the depth image, based on this point cloud. \n"
      ]
    },
    {
      "cell_type": "code",
      "metadata": {
        "id": "SIRQyMuTzTkQ",
        "colab_type": "code",
        "colab": {}
      },
      "source": [
        "\n",
        "output_depth_image = np.zeros((rows, cols))                                     # we generate an image in the same size as the input\n",
        "\n",
        "\n",
        "for i in range(0, pointcloud.shape[0]):\n",
        "  point = pointcloud[i,:]\n",
        "  point = point.reshape(-1, 1)                                                  # transpose the points\n",
        "\n",
        "  q = projection_matrix * point                                                 # calculate the image coordinates\n",
        "\n",
        "  c = int(np.round(q[0]))                                                       # get the colum from the first element\n",
        "  r = int(np.round(q[1]))                                                       # get the row from the second element\n",
        "\n",
        "  output_depth_image[r,c] = q[2]                                                # finally, the depth value is included in the third value\n",
        "\n",
        "\n",
        "\n"
      ],
      "execution_count": 0,
      "outputs": []
    },
    {
      "cell_type": "markdown",
      "metadata": {
        "id": "BOXJkg9PdE5X",
        "colab_type": "text"
      },
      "source": [
        "Ok, seems like we are close to finish this session: Now let's print the the resulting depth image, as well as the initial depth map -- they should be equal. "
      ]
    },
    {
      "cell_type": "code",
      "metadata": {
        "id": "azO3qCdeX2xe",
        "colab_type": "code",
        "outputId": "b4f00481-266e-464c-97e0-a835f39c028c",
        "colab": {
          "base_uri": "https://localhost:8080/",
          "height": 341
        }
      },
      "source": [
        "print(output_depth_image)\n",
        "imgplot = plt.imshow(output_depth_image, cmap='gray')\n"
      ],
      "execution_count": 0,
      "outputs": [
        {
          "output_type": "stream",
          "text": [
            "[[1.  2.  1.  1.  1. ]\n",
            " [1.  1.  0.3 0.3 1. ]\n",
            " [1.  1.  0.3 0.3 1. ]\n",
            " [1.  1.  1.  1.  1. ]]\n"
          ],
          "name": "stdout"
        },
        {
          "output_type": "display_data",
          "data": {
            "image/png": "[encoded data removed]",
            "text/plain": [
              "<Figure size 432x288 with 1 Axes>"
            ]
          },
          "metadata": {
            "tags": [],
            "needs_background": "light"
          }
        }
      ]
    },
    {
      "cell_type": "code",
      "metadata": {
        "id": "13CPPpzobzoe",
        "colab_type": "code",
        "outputId": "d35f9ee8-afbc-476c-ecda-d4670a26dd6f",
        "colab": {
          "base_uri": "https://localhost:8080/",
          "height": 341
        }
      },
      "source": [
        "print(depth_image)\n",
        "imgplot = plt.imshow(depth_image, cmap='gray')\n"
      ],
      "execution_count": 0,
      "outputs": [
        {
          "output_type": "stream",
          "text": [
            "[[1.  2.  1.  1.  1. ]\n",
            " [1.  1.  0.3 0.3 1. ]\n",
            " [1.  1.  0.3 0.3 1. ]\n",
            " [1.  1.  1.  1.  1. ]]\n"
          ],
          "name": "stdout"
        },
        {
          "output_type": "display_data",
          "data": {
            "image/png": "[encoded data removed]",
            "text/plain": [
              "<Figure size 432x288 with 1 Axes>"
            ]
          },
          "metadata": {
            "tags": [],
            "needs_background": "light"
          }
        }
      ]
    },
    {
      "cell_type": "code",
      "metadata": {
        "id": "XqgomH2TcJSX",
        "colab_type": "code",
        "outputId": "4b8a6032-926f-4d09-900b-6736ef8cb65d",
        "colab": {
          "base_uri": "https://localhost:8080/",
          "height": 268
        }
      },
      "source": [
        "res = cv2.resize(depth_image, dsize=(100,80), interpolation=cv2.INTER_NEAREST)\n",
        "imgplot = plt.imshow(res, cmap='gray')"
      ],
      "execution_count": 0,
      "outputs": [
        {
          "output_type": "display_data",
          "data": {
            "image/png": "[encoded data removed]",
            "text/plain": [
              "<Figure size 432x288 with 1 Axes>"
            ]
          },
          "metadata": {
            "tags": [],
            "needs_background": "light"
          }
        }
      ]
    },
    {
      "cell_type": "code",
      "metadata": {
        "id": "WTohEk8V0eaI",
        "colab_type": "code",
        "colab": {}
      },
      "source": [
        ""
      ],
      "execution_count": 0,
      "outputs": []
    }
  ]
}